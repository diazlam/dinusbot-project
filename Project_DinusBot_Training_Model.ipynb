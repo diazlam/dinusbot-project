{
  "nbformat": 4,
  "nbformat_minor": 0,
  "metadata": {
    "colab": {
      "provenance": []
    },
    "kernelspec": {
      "name": "python3",
      "display_name": "Python 3"
    },
    "language_info": {
      "name": "python"
    },
    "accelerator": "GPU",
    "gpuClass": "standard"
  },
  "cells": [
    {
      "cell_type": "markdown",
      "source": [
        "# **Project Akhir - DinusBot**\n",
        "\n",
        "Project ini mengangkat permasalahan dari sulitnya mencari informasi mengenai seputar kampus oleh mahasiswa dari website halaman resmi salah satu perguruan tinggi yaitu Universitas Dian Nuswantoro. Yang mana project DinusBot ini dibuat sebagai solusi untuk mahasiswa UDINUS sebagai kemudahan dalam mencari informasi yang dibutuhkan seputar kampus. Project AI pada domain NLP yang digarap menggunakan algoritma RNN-LSTM yang mana merupakan pengembangan lanjutan dari algoritma RNN pada pembuatan chatbot AI ini. Project ini digarap oleh kelompok 4 dalam waktu kurang lebih selama 1 bulan lamanya yang beranggotakan:\n",
        "```\n",
        "Anggota Kelompok 4: \n",
        "\n",
        "1.   Nabila Jania Fitri\n",
        "2.   Nia Nur Lailiyah\n",
        "3.   Diaz Islami\n",
        "4.   Giga Fajar Septianto\n",
        "```\n",
        "\n",
        "\n",
        "\n",
        "\n"
      ],
      "metadata": {
        "id": "nArhbmO8w01U"
      }
    },
    {
      "cell_type": "markdown",
      "source": [
        "## **Menyiapkan library yang dibutuhkan**\n",
        "\n"
      ],
      "metadata": {
        "id": "pe5ryYZXp-i9"
      }
    },
    {
      "cell_type": "code",
      "execution_count": null,
      "metadata": {
        "id": "Ghc6t5Fqo5UE",
        "colab": {
          "base_uri": "https://localhost:8080/"
        },
        "outputId": "b7fd75c7-c65e-4216-a62c-b16763ac223e"
      },
      "outputs": [
        {
          "output_type": "stream",
          "name": "stdout",
          "text": [
            "\u001b[K     |████████████████████████████████| 32.8 MB 1.2 MB/s \n",
            "\u001b[K     |████████████████████████████████| 96 kB 6.7 MB/s \n",
            "\u001b[K     |████████████████████████████████| 62 kB 1.7 MB/s \n",
            "\u001b[31mERROR: pip's dependency resolver does not currently take into account all the packages that are installed. This behaviour is the source of the following dependency conflicts.\n",
            "ipython 7.9.0 requires jedi>=0.10, which is not installed.\n",
            "flask 1.1.4 requires click<8.0,>=5.1, but you have click 8.1.3 which is incompatible.\u001b[0m\n",
            "\u001b[?25h"
          ]
        }
      ],
      "source": [
        "!pip -q install SpeechRecognition\n",
        "!pip -q install gtts"
      ]
    },
    {
      "cell_type": "code",
      "source": [
        "# Import Libraries\n",
        "import json\n",
        "import nltk\n",
        "import time\n",
        "import random\n",
        "import string\n",
        "import pickle\n",
        "import numpy as np\n",
        "import pandas as pd\n",
        "from gtts import gTTS\n",
        "from io import BytesIO\n",
        "import tensorflow as tf\n",
        "import IPython.display as ipd\n",
        "import speech_recognition as sr \n",
        "import matplotlib.pyplot as plt\n",
        "from nltk.stem import WordNetLemmatizer\n",
        "from tensorflow.keras.models import Model\n",
        "from keras.utils.vis_utils import plot_model\n",
        "from sklearn.preprocessing import LabelEncoder\n",
        "from tensorflow.keras.preprocessing.text import Tokenizer\n",
        "from tensorflow.keras.layers import Input, Embedding, LSTM\n",
        "from tensorflow.keras.preprocessing.sequence import pad_sequences\n",
        "from tensorflow.keras.layers import Flatten, Dense, GlobalMaxPool1D"
      ],
      "metadata": {
        "id": "Q0rtg3jFqOKK"
      },
      "execution_count": null,
      "outputs": []
    },
    {
      "cell_type": "code",
      "source": [
        "# Package sentence tokenizer\n",
        "nltk.download('omw-1.4')\n",
        "# Package lemmatization\n",
        "nltk.download('punkt')\n",
        "# Package multilingual wordnet data\n",
        "nltk.download('wordnet')"
      ],
      "metadata": {
        "colab": {
          "base_uri": "https://localhost:8080/"
        },
        "id": "5EvtVMB8qcE3",
        "outputId": "19e25210-7a66-422b-f68d-3100ea985bbe"
      },
      "execution_count": null,
      "outputs": [
        {
          "output_type": "stream",
          "name": "stderr",
          "text": [
            "[nltk_data] Downloading package omw-1.4 to /root/nltk_data...\n",
            "[nltk_data] Downloading package punkt to /root/nltk_data...\n",
            "[nltk_data]   Unzipping tokenizers/punkt.zip.\n",
            "[nltk_data] Downloading package wordnet to /root/nltk_data...\n"
          ]
        },
        {
          "output_type": "execute_result",
          "data": {
            "text/plain": [
              "True"
            ]
          },
          "metadata": {},
          "execution_count": 3
        }
      ]
    },
    {
      "cell_type": "markdown",
      "source": [
        "## **Load dataset intent.json**"
      ],
      "metadata": {
        "id": "96nDMVyDqiIQ"
      }
    },
    {
      "cell_type": "code",
      "source": [
        "# Importing the dataset\n",
        "with open('/content/intents.json') as content:\n",
        "  data1 = json.load(content)\n",
        "\n",
        "# Mendapatkan semua data ke dalam list\n",
        "tags = []\n",
        "inputs = []\n",
        "responses = {}\n",
        "words = []\n",
        "classes = []\n",
        "documents = []\n",
        "ignore_words = ['?', '!']\n",
        "\n",
        "for intent in data1['intents']:\n",
        "  responses[intent['tag']]=intent['responses']\n",
        "  for lines in intent['patterns']:\n",
        "    inputs.append(lines)\n",
        "    tags.append(intent['tag'])\n",
        "    for pattern in intent['patterns']:\n",
        "      w = nltk.word_tokenize(pattern)\n",
        "      words.extend(w)\n",
        "      documents.append((w, intent['tag']))\n",
        "      # add to our classes list\n",
        "      if intent['tag'] not in classes:\n",
        "        classes.append(intent['tag'])\n",
        "\n",
        "# Konversi data json ke dalam dataframe\n",
        "data = pd.DataFrame({\"patterns\":inputs, \"tags\":tags})"
      ],
      "metadata": {
        "id": "5GmyjQVCqn4a"
      },
      "execution_count": null,
      "outputs": []
    },
    {
      "cell_type": "code",
      "source": [
        "# Mencetak keseluruhan data\n",
        "data"
      ],
      "metadata": {
        "colab": {
          "base_uri": "https://localhost:8080/",
          "height": 424
        },
        "id": "UPCxQr5Zq-sY",
        "outputId": "2e9c2971-60fb-4e4b-fb71-35d9808047f3"
      },
      "execution_count": null,
      "outputs": [
        {
          "output_type": "execute_result",
          "data": {
            "text/plain": [
              "                                             patterns  \\\n",
              "0                                               hallo   \n",
              "1                                                 hai   \n",
              "2                                                halo   \n",
              "3                                                 hei   \n",
              "4                                                  hi   \n",
              "..                                                ...   \n",
              "90  Bagaimana mekanisme aktivasi siadin atau reset...   \n",
              "91     Bagaimana mekanisme aktivasi siadin mahasiswa?   \n",
              "92  Bagaimana mekanisme reset password siadin maha...   \n",
              "93  Kemana saya harus mengurus masalah aktivasi si...   \n",
              "94          Bagaimana cara mahasiswa login ke siadin?   \n",
              "\n",
              "                                 tags  \n",
              "0                            greeting  \n",
              "1                            greeting  \n",
              "2                            greeting  \n",
              "3                            greeting  \n",
              "4                            greeting  \n",
              "..                                ...  \n",
              "90                   jadwal_input_krs  \n",
              "91                   jadwal_input_krs  \n",
              "92                   jadwal_input_krs  \n",
              "93  masalah_aktivasi_siadin_mahasiswa  \n",
              "94        cara_login_siadin_mahasiswa  \n",
              "\n",
              "[95 rows x 2 columns]"
            ],
            "text/html": [
              "\n",
              "  <div id=\"df-85600f6a-3ec5-406d-8932-7605008d22b5\">\n",
              "    <div class=\"colab-df-container\">\n",
              "      <div>\n",
              "<style scoped>\n",
              "    .dataframe tbody tr th:only-of-type {\n",
              "        vertical-align: middle;\n",
              "    }\n",
              "\n",
              "    .dataframe tbody tr th {\n",
              "        vertical-align: top;\n",
              "    }\n",
              "\n",
              "    .dataframe thead th {\n",
              "        text-align: right;\n",
              "    }\n",
              "</style>\n",
              "<table border=\"1\" class=\"dataframe\">\n",
              "  <thead>\n",
              "    <tr style=\"text-align: right;\">\n",
              "      <th></th>\n",
              "      <th>patterns</th>\n",
              "      <th>tags</th>\n",
              "    </tr>\n",
              "  </thead>\n",
              "  <tbody>\n",
              "    <tr>\n",
              "      <th>0</th>\n",
              "      <td>hallo</td>\n",
              "      <td>greeting</td>\n",
              "    </tr>\n",
              "    <tr>\n",
              "      <th>1</th>\n",
              "      <td>hai</td>\n",
              "      <td>greeting</td>\n",
              "    </tr>\n",
              "    <tr>\n",
              "      <th>2</th>\n",
              "      <td>halo</td>\n",
              "      <td>greeting</td>\n",
              "    </tr>\n",
              "    <tr>\n",
              "      <th>3</th>\n",
              "      <td>hei</td>\n",
              "      <td>greeting</td>\n",
              "    </tr>\n",
              "    <tr>\n",
              "      <th>4</th>\n",
              "      <td>hi</td>\n",
              "      <td>greeting</td>\n",
              "    </tr>\n",
              "    <tr>\n",
              "      <th>...</th>\n",
              "      <td>...</td>\n",
              "      <td>...</td>\n",
              "    </tr>\n",
              "    <tr>\n",
              "      <th>90</th>\n",
              "      <td>Bagaimana mekanisme aktivasi siadin atau reset...</td>\n",
              "      <td>jadwal_input_krs</td>\n",
              "    </tr>\n",
              "    <tr>\n",
              "      <th>91</th>\n",
              "      <td>Bagaimana mekanisme aktivasi siadin mahasiswa?</td>\n",
              "      <td>jadwal_input_krs</td>\n",
              "    </tr>\n",
              "    <tr>\n",
              "      <th>92</th>\n",
              "      <td>Bagaimana mekanisme reset password siadin maha...</td>\n",
              "      <td>jadwal_input_krs</td>\n",
              "    </tr>\n",
              "    <tr>\n",
              "      <th>93</th>\n",
              "      <td>Kemana saya harus mengurus masalah aktivasi si...</td>\n",
              "      <td>masalah_aktivasi_siadin_mahasiswa</td>\n",
              "    </tr>\n",
              "    <tr>\n",
              "      <th>94</th>\n",
              "      <td>Bagaimana cara mahasiswa login ke siadin?</td>\n",
              "      <td>cara_login_siadin_mahasiswa</td>\n",
              "    </tr>\n",
              "  </tbody>\n",
              "</table>\n",
              "<p>95 rows × 2 columns</p>\n",
              "</div>\n",
              "      <button class=\"colab-df-convert\" onclick=\"convertToInteractive('df-85600f6a-3ec5-406d-8932-7605008d22b5')\"\n",
              "              title=\"Convert this dataframe to an interactive table.\"\n",
              "              style=\"display:none;\">\n",
              "        \n",
              "  <svg xmlns=\"http://www.w3.org/2000/svg\" height=\"24px\"viewBox=\"0 0 24 24\"\n",
              "       width=\"24px\">\n",
              "    <path d=\"M0 0h24v24H0V0z\" fill=\"none\"/>\n",
              "    <path d=\"M18.56 5.44l.94 2.06.94-2.06 2.06-.94-2.06-.94-.94-2.06-.94 2.06-2.06.94zm-11 1L8.5 8.5l.94-2.06 2.06-.94-2.06-.94L8.5 2.5l-.94 2.06-2.06.94zm10 10l.94 2.06.94-2.06 2.06-.94-2.06-.94-.94-2.06-.94 2.06-2.06.94z\"/><path d=\"M17.41 7.96l-1.37-1.37c-.4-.4-.92-.59-1.43-.59-.52 0-1.04.2-1.43.59L10.3 9.45l-7.72 7.72c-.78.78-.78 2.05 0 2.83L4 21.41c.39.39.9.59 1.41.59.51 0 1.02-.2 1.41-.59l7.78-7.78 2.81-2.81c.8-.78.8-2.07 0-2.86zM5.41 20L4 18.59l7.72-7.72 1.47 1.35L5.41 20z\"/>\n",
              "  </svg>\n",
              "      </button>\n",
              "      \n",
              "  <style>\n",
              "    .colab-df-container {\n",
              "      display:flex;\n",
              "      flex-wrap:wrap;\n",
              "      gap: 12px;\n",
              "    }\n",
              "\n",
              "    .colab-df-convert {\n",
              "      background-color: #E8F0FE;\n",
              "      border: none;\n",
              "      border-radius: 50%;\n",
              "      cursor: pointer;\n",
              "      display: none;\n",
              "      fill: #1967D2;\n",
              "      height: 32px;\n",
              "      padding: 0 0 0 0;\n",
              "      width: 32px;\n",
              "    }\n",
              "\n",
              "    .colab-df-convert:hover {\n",
              "      background-color: #E2EBFA;\n",
              "      box-shadow: 0px 1px 2px rgba(60, 64, 67, 0.3), 0px 1px 3px 1px rgba(60, 64, 67, 0.15);\n",
              "      fill: #174EA6;\n",
              "    }\n",
              "\n",
              "    [theme=dark] .colab-df-convert {\n",
              "      background-color: #3B4455;\n",
              "      fill: #D2E3FC;\n",
              "    }\n",
              "\n",
              "    [theme=dark] .colab-df-convert:hover {\n",
              "      background-color: #434B5C;\n",
              "      box-shadow: 0px 1px 3px 1px rgba(0, 0, 0, 0.15);\n",
              "      filter: drop-shadow(0px 1px 2px rgba(0, 0, 0, 0.3));\n",
              "      fill: #FFFFFF;\n",
              "    }\n",
              "  </style>\n",
              "\n",
              "      <script>\n",
              "        const buttonEl =\n",
              "          document.querySelector('#df-85600f6a-3ec5-406d-8932-7605008d22b5 button.colab-df-convert');\n",
              "        buttonEl.style.display =\n",
              "          google.colab.kernel.accessAllowed ? 'block' : 'none';\n",
              "\n",
              "        async function convertToInteractive(key) {\n",
              "          const element = document.querySelector('#df-85600f6a-3ec5-406d-8932-7605008d22b5');\n",
              "          const dataTable =\n",
              "            await google.colab.kernel.invokeFunction('convertToInteractive',\n",
              "                                                     [key], {});\n",
              "          if (!dataTable) return;\n",
              "\n",
              "          const docLinkHtml = 'Like what you see? Visit the ' +\n",
              "            '<a target=\"_blank\" href=https://colab.research.google.com/notebooks/data_table.ipynb>data table notebook</a>'\n",
              "            + ' to learn more about interactive tables.';\n",
              "          element.innerHTML = '';\n",
              "          dataTable['output_type'] = 'display_data';\n",
              "          await google.colab.output.renderOutput(dataTable, element);\n",
              "          const docLink = document.createElement('div');\n",
              "          docLink.innerHTML = docLinkHtml;\n",
              "          element.appendChild(docLink);\n",
              "        }\n",
              "      </script>\n",
              "    </div>\n",
              "  </div>\n",
              "  "
            ]
          },
          "metadata": {},
          "execution_count": 5
        }
      ]
    },
    {
      "cell_type": "code",
      "source": [
        "# Mencetak 5 baris data pertama dari yang paling atas\n",
        "data.head()"
      ],
      "metadata": {
        "colab": {
          "base_uri": "https://localhost:8080/",
          "height": 206
        },
        "id": "tF4LQpgBrF5d",
        "outputId": "54392e36-c761-4f5f-884c-8ec2abe58dda"
      },
      "execution_count": null,
      "outputs": [
        {
          "output_type": "execute_result",
          "data": {
            "text/plain": [
              "  patterns      tags\n",
              "0    hallo  greeting\n",
              "1      hai  greeting\n",
              "2     halo  greeting\n",
              "3      hei  greeting\n",
              "4       hi  greeting"
            ],
            "text/html": [
              "\n",
              "  <div id=\"df-e75d74f2-d463-49e4-9dcb-a37e0613a424\">\n",
              "    <div class=\"colab-df-container\">\n",
              "      <div>\n",
              "<style scoped>\n",
              "    .dataframe tbody tr th:only-of-type {\n",
              "        vertical-align: middle;\n",
              "    }\n",
              "\n",
              "    .dataframe tbody tr th {\n",
              "        vertical-align: top;\n",
              "    }\n",
              "\n",
              "    .dataframe thead th {\n",
              "        text-align: right;\n",
              "    }\n",
              "</style>\n",
              "<table border=\"1\" class=\"dataframe\">\n",
              "  <thead>\n",
              "    <tr style=\"text-align: right;\">\n",
              "      <th></th>\n",
              "      <th>patterns</th>\n",
              "      <th>tags</th>\n",
              "    </tr>\n",
              "  </thead>\n",
              "  <tbody>\n",
              "    <tr>\n",
              "      <th>0</th>\n",
              "      <td>hallo</td>\n",
              "      <td>greeting</td>\n",
              "    </tr>\n",
              "    <tr>\n",
              "      <th>1</th>\n",
              "      <td>hai</td>\n",
              "      <td>greeting</td>\n",
              "    </tr>\n",
              "    <tr>\n",
              "      <th>2</th>\n",
              "      <td>halo</td>\n",
              "      <td>greeting</td>\n",
              "    </tr>\n",
              "    <tr>\n",
              "      <th>3</th>\n",
              "      <td>hei</td>\n",
              "      <td>greeting</td>\n",
              "    </tr>\n",
              "    <tr>\n",
              "      <th>4</th>\n",
              "      <td>hi</td>\n",
              "      <td>greeting</td>\n",
              "    </tr>\n",
              "  </tbody>\n",
              "</table>\n",
              "</div>\n",
              "      <button class=\"colab-df-convert\" onclick=\"convertToInteractive('df-e75d74f2-d463-49e4-9dcb-a37e0613a424')\"\n",
              "              title=\"Convert this dataframe to an interactive table.\"\n",
              "              style=\"display:none;\">\n",
              "        \n",
              "  <svg xmlns=\"http://www.w3.org/2000/svg\" height=\"24px\"viewBox=\"0 0 24 24\"\n",
              "       width=\"24px\">\n",
              "    <path d=\"M0 0h24v24H0V0z\" fill=\"none\"/>\n",
              "    <path d=\"M18.56 5.44l.94 2.06.94-2.06 2.06-.94-2.06-.94-.94-2.06-.94 2.06-2.06.94zm-11 1L8.5 8.5l.94-2.06 2.06-.94-2.06-.94L8.5 2.5l-.94 2.06-2.06.94zm10 10l.94 2.06.94-2.06 2.06-.94-2.06-.94-.94-2.06-.94 2.06-2.06.94z\"/><path d=\"M17.41 7.96l-1.37-1.37c-.4-.4-.92-.59-1.43-.59-.52 0-1.04.2-1.43.59L10.3 9.45l-7.72 7.72c-.78.78-.78 2.05 0 2.83L4 21.41c.39.39.9.59 1.41.59.51 0 1.02-.2 1.41-.59l7.78-7.78 2.81-2.81c.8-.78.8-2.07 0-2.86zM5.41 20L4 18.59l7.72-7.72 1.47 1.35L5.41 20z\"/>\n",
              "  </svg>\n",
              "      </button>\n",
              "      \n",
              "  <style>\n",
              "    .colab-df-container {\n",
              "      display:flex;\n",
              "      flex-wrap:wrap;\n",
              "      gap: 12px;\n",
              "    }\n",
              "\n",
              "    .colab-df-convert {\n",
              "      background-color: #E8F0FE;\n",
              "      border: none;\n",
              "      border-radius: 50%;\n",
              "      cursor: pointer;\n",
              "      display: none;\n",
              "      fill: #1967D2;\n",
              "      height: 32px;\n",
              "      padding: 0 0 0 0;\n",
              "      width: 32px;\n",
              "    }\n",
              "\n",
              "    .colab-df-convert:hover {\n",
              "      background-color: #E2EBFA;\n",
              "      box-shadow: 0px 1px 2px rgba(60, 64, 67, 0.3), 0px 1px 3px 1px rgba(60, 64, 67, 0.15);\n",
              "      fill: #174EA6;\n",
              "    }\n",
              "\n",
              "    [theme=dark] .colab-df-convert {\n",
              "      background-color: #3B4455;\n",
              "      fill: #D2E3FC;\n",
              "    }\n",
              "\n",
              "    [theme=dark] .colab-df-convert:hover {\n",
              "      background-color: #434B5C;\n",
              "      box-shadow: 0px 1px 3px 1px rgba(0, 0, 0, 0.15);\n",
              "      filter: drop-shadow(0px 1px 2px rgba(0, 0, 0, 0.3));\n",
              "      fill: #FFFFFF;\n",
              "    }\n",
              "  </style>\n",
              "\n",
              "      <script>\n",
              "        const buttonEl =\n",
              "          document.querySelector('#df-e75d74f2-d463-49e4-9dcb-a37e0613a424 button.colab-df-convert');\n",
              "        buttonEl.style.display =\n",
              "          google.colab.kernel.accessAllowed ? 'block' : 'none';\n",
              "\n",
              "        async function convertToInteractive(key) {\n",
              "          const element = document.querySelector('#df-e75d74f2-d463-49e4-9dcb-a37e0613a424');\n",
              "          const dataTable =\n",
              "            await google.colab.kernel.invokeFunction('convertToInteractive',\n",
              "                                                     [key], {});\n",
              "          if (!dataTable) return;\n",
              "\n",
              "          const docLinkHtml = 'Like what you see? Visit the ' +\n",
              "            '<a target=\"_blank\" href=https://colab.research.google.com/notebooks/data_table.ipynb>data table notebook</a>'\n",
              "            + ' to learn more about interactive tables.';\n",
              "          element.innerHTML = '';\n",
              "          dataTable['output_type'] = 'display_data';\n",
              "          await google.colab.output.renderOutput(dataTable, element);\n",
              "          const docLink = document.createElement('div');\n",
              "          docLink.innerHTML = docLinkHtml;\n",
              "          element.appendChild(docLink);\n",
              "        }\n",
              "      </script>\n",
              "    </div>\n",
              "  </div>\n",
              "  "
            ]
          },
          "metadata": {},
          "execution_count": 6
        }
      ]
    },
    {
      "cell_type": "code",
      "source": [
        "# Mencetak data dari baris ke-90 sampai akhir\n",
        "data[90:]"
      ],
      "metadata": {
        "colab": {
          "base_uri": "https://localhost:8080/",
          "height": 206
        },
        "id": "9tCpc_0SrN-4",
        "outputId": "535b3456-ea30-4576-d60c-05f92688c3df"
      },
      "execution_count": null,
      "outputs": [
        {
          "output_type": "execute_result",
          "data": {
            "text/plain": [
              "                                             patterns  \\\n",
              "90  Bagaimana mekanisme aktivasi siadin atau reset...   \n",
              "91     Bagaimana mekanisme aktivasi siadin mahasiswa?   \n",
              "92  Bagaimana mekanisme reset password siadin maha...   \n",
              "93  Kemana saya harus mengurus masalah aktivasi si...   \n",
              "94          Bagaimana cara mahasiswa login ke siadin?   \n",
              "\n",
              "                                 tags  \n",
              "90                   jadwal_input_krs  \n",
              "91                   jadwal_input_krs  \n",
              "92                   jadwal_input_krs  \n",
              "93  masalah_aktivasi_siadin_mahasiswa  \n",
              "94        cara_login_siadin_mahasiswa  "
            ],
            "text/html": [
              "\n",
              "  <div id=\"df-c8331fbc-6ccb-4a9f-afa2-043c4a7113fd\">\n",
              "    <div class=\"colab-df-container\">\n",
              "      <div>\n",
              "<style scoped>\n",
              "    .dataframe tbody tr th:only-of-type {\n",
              "        vertical-align: middle;\n",
              "    }\n",
              "\n",
              "    .dataframe tbody tr th {\n",
              "        vertical-align: top;\n",
              "    }\n",
              "\n",
              "    .dataframe thead th {\n",
              "        text-align: right;\n",
              "    }\n",
              "</style>\n",
              "<table border=\"1\" class=\"dataframe\">\n",
              "  <thead>\n",
              "    <tr style=\"text-align: right;\">\n",
              "      <th></th>\n",
              "      <th>patterns</th>\n",
              "      <th>tags</th>\n",
              "    </tr>\n",
              "  </thead>\n",
              "  <tbody>\n",
              "    <tr>\n",
              "      <th>90</th>\n",
              "      <td>Bagaimana mekanisme aktivasi siadin atau reset...</td>\n",
              "      <td>jadwal_input_krs</td>\n",
              "    </tr>\n",
              "    <tr>\n",
              "      <th>91</th>\n",
              "      <td>Bagaimana mekanisme aktivasi siadin mahasiswa?</td>\n",
              "      <td>jadwal_input_krs</td>\n",
              "    </tr>\n",
              "    <tr>\n",
              "      <th>92</th>\n",
              "      <td>Bagaimana mekanisme reset password siadin maha...</td>\n",
              "      <td>jadwal_input_krs</td>\n",
              "    </tr>\n",
              "    <tr>\n",
              "      <th>93</th>\n",
              "      <td>Kemana saya harus mengurus masalah aktivasi si...</td>\n",
              "      <td>masalah_aktivasi_siadin_mahasiswa</td>\n",
              "    </tr>\n",
              "    <tr>\n",
              "      <th>94</th>\n",
              "      <td>Bagaimana cara mahasiswa login ke siadin?</td>\n",
              "      <td>cara_login_siadin_mahasiswa</td>\n",
              "    </tr>\n",
              "  </tbody>\n",
              "</table>\n",
              "</div>\n",
              "      <button class=\"colab-df-convert\" onclick=\"convertToInteractive('df-c8331fbc-6ccb-4a9f-afa2-043c4a7113fd')\"\n",
              "              title=\"Convert this dataframe to an interactive table.\"\n",
              "              style=\"display:none;\">\n",
              "        \n",
              "  <svg xmlns=\"http://www.w3.org/2000/svg\" height=\"24px\"viewBox=\"0 0 24 24\"\n",
              "       width=\"24px\">\n",
              "    <path d=\"M0 0h24v24H0V0z\" fill=\"none\"/>\n",
              "    <path d=\"M18.56 5.44l.94 2.06.94-2.06 2.06-.94-2.06-.94-.94-2.06-.94 2.06-2.06.94zm-11 1L8.5 8.5l.94-2.06 2.06-.94-2.06-.94L8.5 2.5l-.94 2.06-2.06.94zm10 10l.94 2.06.94-2.06 2.06-.94-2.06-.94-.94-2.06-.94 2.06-2.06.94z\"/><path d=\"M17.41 7.96l-1.37-1.37c-.4-.4-.92-.59-1.43-.59-.52 0-1.04.2-1.43.59L10.3 9.45l-7.72 7.72c-.78.78-.78 2.05 0 2.83L4 21.41c.39.39.9.59 1.41.59.51 0 1.02-.2 1.41-.59l7.78-7.78 2.81-2.81c.8-.78.8-2.07 0-2.86zM5.41 20L4 18.59l7.72-7.72 1.47 1.35L5.41 20z\"/>\n",
              "  </svg>\n",
              "      </button>\n",
              "      \n",
              "  <style>\n",
              "    .colab-df-container {\n",
              "      display:flex;\n",
              "      flex-wrap:wrap;\n",
              "      gap: 12px;\n",
              "    }\n",
              "\n",
              "    .colab-df-convert {\n",
              "      background-color: #E8F0FE;\n",
              "      border: none;\n",
              "      border-radius: 50%;\n",
              "      cursor: pointer;\n",
              "      display: none;\n",
              "      fill: #1967D2;\n",
              "      height: 32px;\n",
              "      padding: 0 0 0 0;\n",
              "      width: 32px;\n",
              "    }\n",
              "\n",
              "    .colab-df-convert:hover {\n",
              "      background-color: #E2EBFA;\n",
              "      box-shadow: 0px 1px 2px rgba(60, 64, 67, 0.3), 0px 1px 3px 1px rgba(60, 64, 67, 0.15);\n",
              "      fill: #174EA6;\n",
              "    }\n",
              "\n",
              "    [theme=dark] .colab-df-convert {\n",
              "      background-color: #3B4455;\n",
              "      fill: #D2E3FC;\n",
              "    }\n",
              "\n",
              "    [theme=dark] .colab-df-convert:hover {\n",
              "      background-color: #434B5C;\n",
              "      box-shadow: 0px 1px 3px 1px rgba(0, 0, 0, 0.15);\n",
              "      filter: drop-shadow(0px 1px 2px rgba(0, 0, 0, 0.3));\n",
              "      fill: #FFFFFF;\n",
              "    }\n",
              "  </style>\n",
              "\n",
              "      <script>\n",
              "        const buttonEl =\n",
              "          document.querySelector('#df-c8331fbc-6ccb-4a9f-afa2-043c4a7113fd button.colab-df-convert');\n",
              "        buttonEl.style.display =\n",
              "          google.colab.kernel.accessAllowed ? 'block' : 'none';\n",
              "\n",
              "        async function convertToInteractive(key) {\n",
              "          const element = document.querySelector('#df-c8331fbc-6ccb-4a9f-afa2-043c4a7113fd');\n",
              "          const dataTable =\n",
              "            await google.colab.kernel.invokeFunction('convertToInteractive',\n",
              "                                                     [key], {});\n",
              "          if (!dataTable) return;\n",
              "\n",
              "          const docLinkHtml = 'Like what you see? Visit the ' +\n",
              "            '<a target=\"_blank\" href=https://colab.research.google.com/notebooks/data_table.ipynb>data table notebook</a>'\n",
              "            + ' to learn more about interactive tables.';\n",
              "          element.innerHTML = '';\n",
              "          dataTable['output_type'] = 'display_data';\n",
              "          await google.colab.output.renderOutput(dataTable, element);\n",
              "          const docLink = document.createElement('div');\n",
              "          docLink.innerHTML = docLinkHtml;\n",
              "          element.appendChild(docLink);\n",
              "        }\n",
              "      </script>\n",
              "    </div>\n",
              "  </div>\n",
              "  "
            ]
          },
          "metadata": {},
          "execution_count": 7
        }
      ]
    },
    {
      "cell_type": "markdown",
      "source": [
        "## **Preproses data**"
      ],
      "metadata": {
        "id": "FmjoRzHVrnn4"
      }
    },
    {
      "cell_type": "code",
      "source": [
        "# Menghilangkan Punktuasi\n",
        "data['patterns'] = data['patterns'].apply(lambda wrd:[ltrs.lower() for ltrs in wrd if ltrs not in string.punctuation])\n",
        "data['patterns'] = data['patterns'].apply(lambda wrd: ''.join(wrd))"
      ],
      "metadata": {
        "id": "HhktLeN3raP1"
      },
      "execution_count": null,
      "outputs": []
    },
    {
      "cell_type": "code",
      "source": [
        "# Lematisasi\n",
        "lemmatizer = WordNetLemmatizer()\n",
        "words = [lemmatizer.lemmatize(w.lower()) for w in words if w not in ignore_words]\n",
        "words = sorted(list(set(words)))\n",
        "\n",
        "print(len(words), \"unique lemmatized words\", words)"
      ],
      "metadata": {
        "colab": {
          "base_uri": "https://localhost:8080/"
        },
        "id": "RfaJo98csRaj",
        "outputId": "2c10e834-cb97-4a46-b61a-83b1737951eb"
      },
      "execution_count": null,
      "outputs": [
        {
          "output_type": "stream",
          "name": "stdout",
          "text": [
            "184 unique lemmatized words ['&', '(', ')', ',', '/', '2', '4', 'ada', 'adakah', 'afternoon', 'aktivasi', 'alamat', 'alumnus', 'apa', 'apakah', 'atau', 'bagaiamana', 'bagaimana', 'bai', 'banyak', 'barang', 'beasiswa', 'beban', 'berapa', 'berobat', 'bisa', 'bkd', 'bro', 'bukan', 'buku', 'bye', 'byee', 'cara', 'career', 'center', 'dadah', 'dah', 'dan', 'dapat', 'dari', 'dengan', 'di', 'diadakan', 'dian', 'diikut', 'dijadikan', 'dikelola', 'dimaksud', 'dimana', 'dimiliki', 'diperlukan', 'dosen', 'fasilitas', 'fasilitias', 'fasilsitas', 'good', 'hai', 'hallo', 'halo', 'harus', 'hei', 'helm', 'hi', 'hilang', 'hy', 'ilmiah', 'info', 'informasi', 'input', 'itu', 'jadwal', 'jenis', 'jenis-jenis', 'jika', 'jobfair', 'judul', 'jumpa', 'kapan', 'kartu', 'kasih', 'kawan', 'ke', 'kegiatan', 'kelas', 'kemana', 'kendaraan', 'kerja', 'kinerja', 'kita', 'koleksi', 'komunitas', 'konseling', 'kontak', 'kr', 'ktm', 'layanan', 'letak', 'login', 'lokasi', 'macam', 'mahasiswa', 'makasih', 'malam', 'masalah', 'mekanisme', 'melamar', 'melihat', 'membayar', 'member', 'membuat', 'mendapatkan', 'mengakses', 'mengetahui', 'mengurus', 'mengusulkan', 'menjadi', 'misi', 'mobil', 'morning', 'motor', 'nama', 'nuswantoro', 'nuwantoro', 'obatnya', 'oleh', 'organisasi', 'pagi', 'parkir', 'password', 'pelayanan', 'peneliitian/karya', 'penelitian', 'pengumuman', 'pergi', 'perlukah', 'perpustakaan', 'person', 'poli', 'poliklinik', 'reset', 'roda', 'saat', 'saja', 'sampai', 'saya', 'seandainya', 'sebagai', 'see', 'sejarah', 'selamat', 'seperti', 'si', 'siadin', 'siang', 'sih', 'sobat', 'sore', 'standar', 'statistik', 'sudah', 'syarat', 'syarat-syarat', 'tanda', 'tentang', 'terima', 'terjadi', 'terlaksana', 'tersedia', 'tertuang', 'tetapi', 'thank', 'thanks', 'tinggal', 'udinus', 'unit', 'universitas', 'university', 'untuk', 'visi', 'wajib', 'wali', 'website', 'yang', 'you']\n"
          ]
        }
      ]
    },
    {
      "cell_type": "code",
      "source": [
        "# Menyortir data kelas tag\n",
        "classes = sorted(list(set(classes)))\n",
        "print (len(classes), \"classes\", classes)"
      ],
      "metadata": {
        "colab": {
          "base_uri": "https://localhost:8080/"
        },
        "id": "9_FL6lxGsd6C",
        "outputId": "57e36890-0176-4802-b14a-956878ba9eeb"
      },
      "execution_count": null,
      "outputs": [
        {
          "output_type": "stream",
          "name": "stdout",
          "text": [
            "43 classes ['beban_kerja_dosen', 'berobat_layanan_poliklinik', 'cara_login_siadin_mahasiswa', 'career_center_udinus', 'daftar_member_career_center_udinus', 'dosen_wali', 'fasilitas_udinus', 'goodbye', 'greeting', 'info_statistik_penelitian', 'informasi_bkd', 'informasi_dosen_udinus', 'informasi_jobfair_udinus', 'jadwal_career_center_udinus', 'jadwal_input_krs', 'jenis_beasiswa_udinus', 'jenis_poli_poliklinik', 'jobfair_udinus', 'jumlah_organisasi_udinus', 'jumlah_ukm_udinus', 'kehilangan_tempat_parkir', 'komunitas_udinus', 'konseling_alumni_career_center_udinus', 'kontak_career_center_udinus', 'lamar_kerja_career_center_udinus', 'lokasi_career_center_udinus', 'lokasi_parkir', 'lokasi_udinus', 'macam_kegiatan_penelitian', 'masalah_aktivasi_siadin_mahasiswa', 'member_career_center_udinus', 'parkir_roda_dua_udinus', 'parkir_roda_empat_udinus', 'pencarian_informasi_dosen_udinus', 'pengumuman_dosen_kelas', 'sejarah_udinus', 'syarat_buat_ktm', 'syarat_layanan_poliklinik', 'syarat_parkir_udinus', 'terimakasih', 'udinus', 'usul_judul_buku', 'visi_misi_udinus']\n"
          ]
        }
      ]
    },
    {
      "cell_type": "code",
      "source": [
        "# Mencetak jumlah keseluruhan data teks\n",
        "# documents = kombinasi antara patterns and intents\n",
        "print (len(documents), \"documents\")"
      ],
      "metadata": {
        "colab": {
          "base_uri": "https://localhost:8080/"
        },
        "id": "o6mFFRjyswhM",
        "outputId": "ac225076-181c-43e7-dfd9-a4686bfc6ee7"
      },
      "execution_count": null,
      "outputs": [
        {
          "output_type": "stream",
          "name": "stdout",
          "text": [
            "523 documents\n"
          ]
        }
      ]
    },
    {
      "cell_type": "code",
      "source": [
        "# Tokenisasi Data\n",
        "tokenizer = Tokenizer(num_words=2000)\n",
        "tokenizer.fit_on_texts(data['patterns'])\n",
        "train = tokenizer.texts_to_sequences(data['patterns'])\n",
        "train"
      ],
      "metadata": {
        "colab": {
          "base_uri": "https://localhost:8080/"
        },
        "id": "0wDl9MyvtEbP",
        "outputId": "1713332f-c9e2-44f4-aadc-476a4a9c7cd8"
      },
      "execution_count": null,
      "outputs": [
        {
          "output_type": "execute_result",
          "data": {
            "text/plain": [
              "[[71],\n",
              " [72],\n",
              " [73],\n",
              " [74],\n",
              " [75],\n",
              " [76],\n",
              " [77],\n",
              " [78],\n",
              " [79],\n",
              " [80],\n",
              " [81],\n",
              " [82],\n",
              " [83],\n",
              " [84],\n",
              " [85],\n",
              " [86],\n",
              " [87],\n",
              " [88],\n",
              " [42],\n",
              " [89],\n",
              " [90, 42],\n",
              " [91, 92],\n",
              " [93, 94],\n",
              " [95],\n",
              " [96, 43],\n",
              " [97],\n",
              " [98, 43],\n",
              " [44, 45],\n",
              " [99],\n",
              " [44, 45, 100],\n",
              " [1],\n",
              " [1],\n",
              " [101, 46, 102],\n",
              " [46, 103, 104],\n",
              " [2, 25, 1],\n",
              " [26, 1],\n",
              " [9, 26, 1],\n",
              " [105, 2, 26, 1],\n",
              " [2, 27, 28, 1],\n",
              " [27, 28, 1],\n",
              " [27, 20, 28],\n",
              " [7, 1],\n",
              " [7, 47, 1],\n",
              " [7, 48, 1],\n",
              " [47, 1],\n",
              " [48, 1],\n",
              " [106, 1],\n",
              " [2, 6, 49, 3, 1],\n",
              " [107, 4, 50, 1],\n",
              " [2, 6, 49, 4, 50, 1],\n",
              " [29, 2, 6, 4, 30, 13, 31, 108, 109, 5, 32, 1],\n",
              " [29, 2, 6, 4, 30, 13, 31, 32, 1],\n",
              " [2, 6, 29, 4, 30, 13, 31, 32],\n",
              " [33, 14, 110, 111, 51, 34, 1, 112, 14, 113, 13, 35, 114],\n",
              " [7, 16, 115, 20, 116, 3, 1],\n",
              " [10, 21, 117, 118, 4, 10, 3, 34, 1],\n",
              " [119, 5, 52, 2, 4, 120, 121, 122, 35, 3, 34, 1],\n",
              " [10, 21, 123, 53, 124, 125, 4, 36, 126, 37, 5, 1],\n",
              " [2, 6, 127, 128, 4, 129, 1],\n",
              " [10, 21, 130, 53, 5, 3, 1],\n",
              " [10, 21, 131, 5, 3, 1],\n",
              " [132, 2, 6, 4, 10, 3, 1],\n",
              " [7, 54, 36, 55, 38, 56, 15, 3, 1],\n",
              " [2, 133, 11, 12, 1, 25],\n",
              " [2, 25, 11, 12, 1],\n",
              " [22, 17, 57, 58, 11, 12, 1, 134, 135, 59, 1],\n",
              " [9, 57, 58, 11, 12, 1],\n",
              " [7, 136, 11, 12, 1],\n",
              " [137, 39, 138, 139, 3, 140, 11, 12, 1],\n",
              " [141, 142, 143, 11, 12, 1],\n",
              " [144, 6, 35, 11, 12, 1, 145],\n",
              " [22, 10, 146, 147, 13, 59, 1],\n",
              " [7, 6, 16, 60, 61, 148, 3, 1],\n",
              " [7, 6, 16, 60, 61, 149, 3, 1],\n",
              " [2, 6, 52, 16, 3, 1],\n",
              " [9, 33, 62, 150, 151, 4, 152, 153, 16, 3, 1],\n",
              " [22, 17, 154, 155, 156, 157, 3, 158, 1],\n",
              " [7, 17, 159, 38, 63, 1],\n",
              " [9, 13, 160, 161, 162, 163, 4, 164, 165, 37, 1],\n",
              " [22, 10, 63, 4, 166, 37, 1],\n",
              " [7, 14, 17, 40, 167, 15, 168, 14],\n",
              " [2, 4, 64, 41, 65, 66, 15],\n",
              " [2, 4, 64, 41, 67],\n",
              " [2, 6, 4, 68, 3, 65, 66, 15],\n",
              " [2, 6, 4, 68, 3, 67],\n",
              " [7, 54, 36, 55, 38, 56, 15, 3, 1],\n",
              " [9, 39, 5, 40, 169, 170, 15, 171, 3, 8],\n",
              " [7, 5, 17, 40, 172, 173, 174],\n",
              " [9, 18, 19, 8, 20, 69, 23, 24, 8, 5],\n",
              " [9, 18, 19, 8, 20, 23, 24, 8, 5],\n",
              " [9, 18, 19, 8, 69, 23, 24, 8, 5],\n",
              " [9, 18, 19, 8, 5],\n",
              " [9, 18, 23, 24, 8, 5],\n",
              " [175, 14, 176, 177, 70, 19, 8, 5, 33, 178, 62, 70, 41, 8, 14],\n",
              " [9, 39, 5, 179, 51, 8]]"
            ]
          },
          "metadata": {},
          "execution_count": 12
        }
      ]
    },
    {
      "cell_type": "code",
      "source": [
        "# Menerapkan padding \n",
        "x_train = pad_sequences(train)\n",
        "print(x_train) # Padding Sequences"
      ],
      "metadata": {
        "colab": {
          "base_uri": "https://localhost:8080/"
        },
        "id": "GKhitQk2tP4i",
        "outputId": "78e8992f-a668-4915-92b7-4fcb2d3e9894"
      },
      "execution_count": null,
      "outputs": [
        {
          "output_type": "stream",
          "name": "stdout",
          "text": [
            "[[  0   0   0 ...   0   0  71]\n",
            " [  0   0   0 ...   0   0  72]\n",
            " [  0   0   0 ...   0   0  73]\n",
            " ...\n",
            " [  0   0   0 ...  24   8   5]\n",
            " [175  14 176 ...  41   8  14]\n",
            " [  0   0   0 ... 179  51   8]]\n"
          ]
        }
      ]
    },
    {
      "cell_type": "code",
      "source": [
        "# Encoding output \n",
        "le =LabelEncoder()\n",
        "y_train = le.fit_transform(data['tags'])\n",
        "print(y_train)"
      ],
      "metadata": {
        "colab": {
          "base_uri": "https://localhost:8080/"
        },
        "id": "6JKSiF5ztymV",
        "outputId": "48a013c2-24a6-4d18-d710-fff5d2b08387"
      },
      "execution_count": null,
      "outputs": [
        {
          "output_type": "stream",
          "name": "stdout",
          "text": [
            "[ 8  8  8  8  8  8  8  8  8  8  8  8  8  8  8  8  7  7  7  7  7  7  7  7\n",
            "  7 39 39 39 39 39 40 40 40 40 40 35 35 35 42 42 42 27 27 27 27 27  6  6\n",
            "  6  6 36 36 36  1 26 16 37 28 15 19 18 21 11  3  3 30  4 25 24 23 13 22\n",
            " 31 32 38 20 41 12  9 17  5  0  0 10 10 33 34 14 14 14 14 14 14 29  2]\n"
          ]
        }
      ]
    },
    {
      "cell_type": "markdown",
      "source": [
        "# **Input Length, Output Length and Vocabulary**"
      ],
      "metadata": {
        "id": "GVyg6INuvq8h"
      }
    },
    {
      "cell_type": "code",
      "source": [
        "# input length\n",
        "input_shape = x_train.shape[1]\n",
        "print(input_shape)"
      ],
      "metadata": {
        "colab": {
          "base_uri": "https://localhost:8080/"
        },
        "id": "hVgv1RFgvSY6",
        "outputId": "bc2ff099-e606-46b9-9c1c-593be677f260"
      },
      "execution_count": null,
      "outputs": [
        {
          "output_type": "stream",
          "name": "stdout",
          "text": [
            "15\n"
          ]
        }
      ]
    },
    {
      "cell_type": "code",
      "source": [
        "# define vocabulary\n",
        "vocabulary = len(tokenizer.word_index)\n",
        "print(\"number of unique words : \", vocabulary)"
      ],
      "metadata": {
        "colab": {
          "base_uri": "https://localhost:8080/"
        },
        "id": "zXqRP7gAvTh-",
        "outputId": "06c534e3-4812-4754-8a03-fcaa7e42bb88"
      },
      "execution_count": null,
      "outputs": [
        {
          "output_type": "stream",
          "name": "stdout",
          "text": [
            "number of unique words :  179\n"
          ]
        }
      ]
    },
    {
      "cell_type": "code",
      "source": [
        "# output length\n",
        "output_length = le.classes_.shape[0]\n",
        "print(\"output length: \", output_length)"
      ],
      "metadata": {
        "colab": {
          "base_uri": "https://localhost:8080/"
        },
        "id": "NlCjzXn6vWNf",
        "outputId": "344f2408-eb89-4d37-9919-28f019e5ee06"
      },
      "execution_count": null,
      "outputs": [
        {
          "output_type": "stream",
          "name": "stdout",
          "text": [
            "output length:  43\n"
          ]
        }
      ]
    },
    {
      "cell_type": "markdown",
      "source": [
        "## **Save Model Words & Classes**"
      ],
      "metadata": {
        "id": "-ZOWfN77vtLg"
      }
    },
    {
      "cell_type": "code",
      "source": [
        "pickle.dump(words, open('/content/Model/words.pkl','wb'))\n",
        "pickle.dump(classes, open('/content/Model/classes.pkl','wb'))"
      ],
      "metadata": {
        "id": "5QYZF6qYvZRq"
      },
      "execution_count": null,
      "outputs": []
    },
    {
      "cell_type": "markdown",
      "source": [
        "## **Save Label Encoder & Tokenizer**"
      ],
      "metadata": {
        "id": "hMDDhGkyv4jh"
      }
    },
    {
      "cell_type": "code",
      "source": [
        "pickle.dump(le, open('labelencoder.pkl','wb'))\n",
        "pickle.dump(tokenizer, open('tokenizers.pkl','wb'))"
      ],
      "metadata": {
        "id": "B2OO2Avlvgtu"
      },
      "execution_count": null,
      "outputs": []
    },
    {
      "cell_type": "markdown",
      "source": [
        "## **Membangun model dengan Neural Network**"
      ],
      "metadata": {
        "id": "ENf_iLr6wHFH"
      }
    },
    {
      "cell_type": "code",
      "source": [
        "# Creating the model (Membuat Modeling)\n",
        "i = Input(shape=(input_shape,))\n",
        "x = Embedding(vocabulary+1,15)(i) # Layer Embedding\n",
        "x = LSTM(15, return_sequences=True)(x) # Layer Long Short Term Memory\n",
        "x = Flatten()(x) # Layer Flatten\n",
        "x = Dense(output_length, activation=\"softmax\")(x) # Layer Dense\n",
        "model  = Model(i,x)\n",
        "\n",
        "# Compiling the model (Kompilasi Model)\n",
        "model.compile(loss=\"sparse_categorical_crossentropy\", optimizer='adam', metrics=['accuracy'])"
      ],
      "metadata": {
        "id": "2H9-P9BbwAw1"
      },
      "execution_count": null,
      "outputs": []
    },
    {
      "cell_type": "code",
      "source": [
        "# Visualization Plot Architecture Model (Visualisasi Plot Arsitektur Model)\n",
        "plot_model(model, to_file='model_plot.png', show_shapes=True, show_layer_names=True)"
      ],
      "metadata": {
        "colab": {
          "base_uri": "https://localhost:8080/",
          "height": 533
        },
        "id": "GYO1DW71wPdr",
        "outputId": "fef70bb5-4e8b-4cc5-cece-f14d12de88da"
      },
      "execution_count": null,
      "outputs": [
        {
          "output_type": "execute_result",
          "data": {
            "image/png": "[encoded data removed]",
            "text/plain": [
              "<IPython.core.display.Image object>"
            ]
          },
          "metadata": {},
          "execution_count": 22
        }
      ]
    },
    {
      "cell_type": "code",
      "source": [
        "# Menampilkan Parameter Model\n",
        "model.summary()"
      ],
      "metadata": {
        "colab": {
          "base_uri": "https://localhost:8080/"
        },
        "id": "xhTAszciwQRm",
        "outputId": "7b246488-a63f-4b66-f3d1-8376648b3f8a"
      },
      "execution_count": null,
      "outputs": [
        {
          "output_type": "stream",
          "name": "stdout",
          "text": [
            "Model: \"model\"\n",
            "_________________________________________________________________\n",
            " Layer (type)                Output Shape              Param #   \n",
            "=================================================================\n",
            " input_1 (InputLayer)        [(None, 15)]              0         \n",
            "                                                                 \n",
            " embedding (Embedding)       (None, 15, 15)            2700      \n",
            "                                                                 \n",
            " lstm (LSTM)                 (None, 15, 15)            1860      \n",
            "                                                                 \n",
            " flatten (Flatten)           (None, 225)               0         \n",
            "                                                                 \n",
            " dense (Dense)               (None, 43)                9718      \n",
            "                                                                 \n",
            "=================================================================\n",
            "Total params: 14,278\n",
            "Trainable params: 14,278\n",
            "Non-trainable params: 0\n",
            "_________________________________________________________________\n"
          ]
        }
      ]
    },
    {
      "cell_type": "code",
      "source": [
        "# Training the model (Latih model data sampai n kali)\n",
        "train = model.fit(x_train, y_train, epochs=200)"
      ],
      "metadata": {
        "colab": {
          "base_uri": "https://localhost:8080/"
        },
        "id": "X8BGFn5UwTe1",
        "outputId": "e2747ba7-39b7-4e12-82c5-fba5eff8fbf8"
      },
      "execution_count": null,
      "outputs": [
        {
          "output_type": "stream",
          "name": "stdout",
          "text": [
            "Epoch 1/200\n",
            "3/3 [==============================] - 7s 7ms/step - loss: 3.7578 - accuracy: 0.0421\n",
            "Epoch 2/200\n",
            "3/3 [==============================] - 0s 6ms/step - loss: 3.7462 - accuracy: 0.0316\n",
            "Epoch 3/200\n",
            "3/3 [==============================] - 0s 6ms/step - loss: 3.7329 - accuracy: 0.0421\n",
            "Epoch 4/200\n",
            "3/3 [==============================] - 0s 6ms/step - loss: 3.7152 - accuracy: 0.0421\n",
            "Epoch 5/200\n",
            "3/3 [==============================] - 0s 6ms/step - loss: 3.6909 - accuracy: 0.0737\n",
            "Epoch 6/200\n",
            "3/3 [==============================] - 0s 6ms/step - loss: 3.6583 - accuracy: 0.1789\n",
            "Epoch 7/200\n",
            "3/3 [==============================] - 0s 5ms/step - loss: 3.6175 - accuracy: 0.1789\n",
            "Epoch 8/200\n",
            "3/3 [==============================] - 0s 6ms/step - loss: 3.5627 - accuracy: 0.1684\n",
            "Epoch 9/200\n",
            "3/3 [==============================] - 0s 6ms/step - loss: 3.4991 - accuracy: 0.1684\n",
            "Epoch 10/200\n",
            "3/3 [==============================] - 0s 6ms/step - loss: 3.4250 - accuracy: 0.1684\n",
            "Epoch 11/200\n",
            "3/3 [==============================] - 0s 6ms/step - loss: 3.3302 - accuracy: 0.1684\n",
            "Epoch 12/200\n",
            "3/3 [==============================] - 0s 6ms/step - loss: 3.2534 - accuracy: 0.1684\n",
            "Epoch 13/200\n",
            "3/3 [==============================] - 0s 6ms/step - loss: 3.2012 - accuracy: 0.1684\n",
            "Epoch 14/200\n",
            "3/3 [==============================] - 0s 8ms/step - loss: 3.1923 - accuracy: 0.1684\n",
            "Epoch 15/200\n",
            "3/3 [==============================] - 0s 6ms/step - loss: 3.1900 - accuracy: 0.1684\n",
            "Epoch 16/200\n",
            "3/3 [==============================] - 0s 6ms/step - loss: 3.1685 - accuracy: 0.1684\n",
            "Epoch 17/200\n",
            "3/3 [==============================] - 0s 6ms/step - loss: 3.1411 - accuracy: 0.1684\n",
            "Epoch 18/200\n",
            "3/3 [==============================] - 0s 6ms/step - loss: 3.1141 - accuracy: 0.1684\n",
            "Epoch 19/200\n",
            "3/3 [==============================] - 0s 6ms/step - loss: 3.1005 - accuracy: 0.1684\n",
            "Epoch 20/200\n",
            "3/3 [==============================] - 0s 6ms/step - loss: 3.0850 - accuracy: 0.1684\n",
            "Epoch 21/200\n",
            "3/3 [==============================] - 0s 6ms/step - loss: 3.0649 - accuracy: 0.1789\n",
            "Epoch 22/200\n",
            "3/3 [==============================] - 0s 6ms/step - loss: 3.0426 - accuracy: 0.1789\n",
            "Epoch 23/200\n",
            "3/3 [==============================] - 0s 6ms/step - loss: 3.0202 - accuracy: 0.1789\n",
            "Epoch 24/200\n",
            "3/3 [==============================] - 0s 6ms/step - loss: 3.0013 - accuracy: 0.1789\n",
            "Epoch 25/200\n",
            "3/3 [==============================] - 0s 7ms/step - loss: 2.9791 - accuracy: 0.1789\n",
            "Epoch 26/200\n",
            "3/3 [==============================] - 0s 6ms/step - loss: 2.9542 - accuracy: 0.1895\n",
            "Epoch 27/200\n",
            "3/3 [==============================] - 0s 6ms/step - loss: 2.9313 - accuracy: 0.1895\n",
            "Epoch 28/200\n",
            "3/3 [==============================] - 0s 6ms/step - loss: 2.9048 - accuracy: 0.2000\n",
            "Epoch 29/200\n",
            "3/3 [==============================] - 0s 10ms/step - loss: 2.8811 - accuracy: 0.2000\n",
            "Epoch 30/200\n",
            "3/3 [==============================] - 0s 7ms/step - loss: 2.8566 - accuracy: 0.2000\n",
            "Epoch 31/200\n",
            "3/3 [==============================] - 0s 6ms/step - loss: 2.8303 - accuracy: 0.2105\n",
            "Epoch 32/200\n",
            "3/3 [==============================] - 0s 6ms/step - loss: 2.8054 - accuracy: 0.2105\n",
            "Epoch 33/200\n",
            "3/3 [==============================] - 0s 6ms/step - loss: 2.7803 - accuracy: 0.2105\n",
            "Epoch 34/200\n",
            "3/3 [==============================] - 0s 6ms/step - loss: 2.7539 - accuracy: 0.2000\n",
            "Epoch 35/200\n",
            "3/3 [==============================] - 0s 6ms/step - loss: 2.7282 - accuracy: 0.2000\n",
            "Epoch 36/200\n",
            "3/3 [==============================] - 0s 6ms/step - loss: 2.7035 - accuracy: 0.2316\n",
            "Epoch 37/200\n",
            "3/3 [==============================] - 0s 6ms/step - loss: 2.6763 - accuracy: 0.2632\n",
            "Epoch 38/200\n",
            "3/3 [==============================] - 0s 6ms/step - loss: 2.6520 - accuracy: 0.2632\n",
            "Epoch 39/200\n",
            "3/3 [==============================] - 0s 6ms/step - loss: 2.6251 - accuracy: 0.2632\n",
            "Epoch 40/200\n",
            "3/3 [==============================] - 0s 6ms/step - loss: 2.6001 - accuracy: 0.2526\n",
            "Epoch 41/200\n",
            "3/3 [==============================] - 0s 6ms/step - loss: 2.5750 - accuracy: 0.2526\n",
            "Epoch 42/200\n",
            "3/3 [==============================] - 0s 7ms/step - loss: 2.5486 - accuracy: 0.2526\n",
            "Epoch 43/200\n",
            "3/3 [==============================] - 0s 6ms/step - loss: 2.5231 - accuracy: 0.2526\n",
            "Epoch 44/200\n",
            "3/3 [==============================] - 0s 10ms/step - loss: 2.4980 - accuracy: 0.2526\n",
            "Epoch 45/200\n",
            "3/3 [==============================] - 0s 6ms/step - loss: 2.4717 - accuracy: 0.2632\n",
            "Epoch 46/200\n",
            "3/3 [==============================] - 0s 6ms/step - loss: 2.4462 - accuracy: 0.2737\n",
            "Epoch 47/200\n",
            "3/3 [==============================] - 0s 6ms/step - loss: 2.4193 - accuracy: 0.2737\n",
            "Epoch 48/200\n",
            "3/3 [==============================] - 0s 6ms/step - loss: 2.3935 - accuracy: 0.2842\n",
            "Epoch 49/200\n",
            "3/3 [==============================] - 0s 6ms/step - loss: 2.3688 - accuracy: 0.2842\n",
            "Epoch 50/200\n",
            "3/3 [==============================] - 0s 6ms/step - loss: 2.3421 - accuracy: 0.2947\n",
            "Epoch 51/200\n",
            "3/3 [==============================] - 0s 6ms/step - loss: 2.3160 - accuracy: 0.3053\n",
            "Epoch 52/200\n",
            "3/3 [==============================] - 0s 6ms/step - loss: 2.2901 - accuracy: 0.3053\n",
            "Epoch 53/200\n",
            "3/3 [==============================] - 0s 6ms/step - loss: 2.2631 - accuracy: 0.3158\n",
            "Epoch 54/200\n",
            "3/3 [==============================] - 0s 10ms/step - loss: 2.2388 - accuracy: 0.3158\n",
            "Epoch 55/200\n",
            "3/3 [==============================] - 0s 6ms/step - loss: 2.2118 - accuracy: 0.3158\n",
            "Epoch 56/200\n",
            "3/3 [==============================] - 0s 6ms/step - loss: 2.1838 - accuracy: 0.3263\n",
            "Epoch 57/200\n",
            "3/3 [==============================] - 0s 6ms/step - loss: 2.1582 - accuracy: 0.3263\n",
            "Epoch 58/200\n",
            "3/3 [==============================] - 0s 7ms/step - loss: 2.1354 - accuracy: 0.3158\n",
            "Epoch 59/200\n",
            "3/3 [==============================] - 0s 6ms/step - loss: 2.1076 - accuracy: 0.3158\n",
            "Epoch 60/200\n",
            "3/3 [==============================] - 0s 6ms/step - loss: 2.0826 - accuracy: 0.3368\n",
            "Epoch 61/200\n",
            "3/3 [==============================] - 0s 7ms/step - loss: 2.0595 - accuracy: 0.3474\n",
            "Epoch 62/200\n",
            "3/3 [==============================] - 0s 7ms/step - loss: 2.0338 - accuracy: 0.3474\n",
            "Epoch 63/200\n",
            "3/3 [==============================] - 0s 6ms/step - loss: 2.0097 - accuracy: 0.3474\n",
            "Epoch 64/200\n",
            "3/3 [==============================] - 0s 6ms/step - loss: 1.9857 - accuracy: 0.3474\n",
            "Epoch 65/200\n",
            "3/3 [==============================] - 0s 6ms/step - loss: 1.9600 - accuracy: 0.3579\n",
            "Epoch 66/200\n",
            "3/3 [==============================] - 0s 6ms/step - loss: 1.9400 - accuracy: 0.3579\n",
            "Epoch 67/200\n",
            "3/3 [==============================] - 0s 6ms/step - loss: 1.9154 - accuracy: 0.3684\n",
            "Epoch 68/200\n",
            "3/3 [==============================] - 0s 6ms/step - loss: 1.8945 - accuracy: 0.3789\n",
            "Epoch 69/200\n",
            "3/3 [==============================] - 0s 6ms/step - loss: 1.8683 - accuracy: 0.4000\n",
            "Epoch 70/200\n",
            "3/3 [==============================] - 0s 6ms/step - loss: 1.8470 - accuracy: 0.3895\n",
            "Epoch 71/200\n",
            "3/3 [==============================] - 0s 6ms/step - loss: 1.8245 - accuracy: 0.4105\n",
            "Epoch 72/200\n",
            "3/3 [==============================] - 0s 6ms/step - loss: 1.8028 - accuracy: 0.4105\n",
            "Epoch 73/200\n",
            "3/3 [==============================] - 0s 7ms/step - loss: 1.7793 - accuracy: 0.4421\n",
            "Epoch 74/200\n",
            "3/3 [==============================] - 0s 6ms/step - loss: 1.7599 - accuracy: 0.4316\n",
            "Epoch 75/200\n",
            "3/3 [==============================] - 0s 7ms/step - loss: 1.7379 - accuracy: 0.4421\n",
            "Epoch 76/200\n",
            "3/3 [==============================] - 0s 6ms/step - loss: 1.7186 - accuracy: 0.4211\n",
            "Epoch 77/200\n",
            "3/3 [==============================] - 0s 6ms/step - loss: 1.6929 - accuracy: 0.4316\n",
            "Epoch 78/200\n",
            "3/3 [==============================] - 0s 8ms/step - loss: 1.6742 - accuracy: 0.4632\n",
            "Epoch 79/200\n",
            "3/3 [==============================] - 0s 6ms/step - loss: 1.6547 - accuracy: 0.4842\n",
            "Epoch 80/200\n",
            "3/3 [==============================] - 0s 6ms/step - loss: 1.6298 - accuracy: 0.5053\n",
            "Epoch 81/200\n",
            "3/3 [==============================] - 0s 6ms/step - loss: 1.6109 - accuracy: 0.4947\n",
            "Epoch 82/200\n",
            "3/3 [==============================] - 0s 6ms/step - loss: 1.5898 - accuracy: 0.5368\n",
            "Epoch 83/200\n",
            "3/3 [==============================] - 0s 6ms/step - loss: 1.5711 - accuracy: 0.5368\n",
            "Epoch 84/200\n",
            "3/3 [==============================] - 0s 6ms/step - loss: 1.5504 - accuracy: 0.5684\n",
            "Epoch 85/200\n",
            "3/3 [==============================] - 0s 6ms/step - loss: 1.5265 - accuracy: 0.5684\n",
            "Epoch 86/200\n",
            "3/3 [==============================] - 0s 6ms/step - loss: 1.5051 - accuracy: 0.5579\n",
            "Epoch 87/200\n",
            "3/3 [==============================] - 0s 6ms/step - loss: 1.4858 - accuracy: 0.5789\n",
            "Epoch 88/200\n",
            "3/3 [==============================] - 0s 8ms/step - loss: 1.4600 - accuracy: 0.5895\n",
            "Epoch 89/200\n",
            "3/3 [==============================] - 0s 6ms/step - loss: 1.4397 - accuracy: 0.6000\n",
            "Epoch 90/200\n",
            "3/3 [==============================] - 0s 6ms/step - loss: 1.4190 - accuracy: 0.6105\n",
            "Epoch 91/200\n",
            "3/3 [==============================] - 0s 6ms/step - loss: 1.3966 - accuracy: 0.6211\n",
            "Epoch 92/200\n",
            "3/3 [==============================] - 0s 6ms/step - loss: 1.3744 - accuracy: 0.6211\n",
            "Epoch 93/200\n",
            "3/3 [==============================] - 0s 8ms/step - loss: 1.3510 - accuracy: 0.6526\n",
            "Epoch 94/200\n",
            "3/3 [==============================] - 0s 7ms/step - loss: 1.3325 - accuracy: 0.6526\n",
            "Epoch 95/200\n",
            "3/3 [==============================] - 0s 6ms/step - loss: 1.3089 - accuracy: 0.6632\n",
            "Epoch 96/200\n",
            "3/3 [==============================] - 0s 6ms/step - loss: 1.2861 - accuracy: 0.6737\n",
            "Epoch 97/200\n",
            "3/3 [==============================] - 0s 6ms/step - loss: 1.2686 - accuracy: 0.7158\n",
            "Epoch 98/200\n",
            "3/3 [==============================] - 0s 6ms/step - loss: 1.2412 - accuracy: 0.7474\n",
            "Epoch 99/200\n",
            "3/3 [==============================] - 0s 6ms/step - loss: 1.2178 - accuracy: 0.7263\n",
            "Epoch 100/200\n",
            "3/3 [==============================] - 0s 6ms/step - loss: 1.1942 - accuracy: 0.7474\n",
            "Epoch 101/200\n",
            "3/3 [==============================] - 0s 6ms/step - loss: 1.1734 - accuracy: 0.7579\n",
            "Epoch 102/200\n",
            "3/3 [==============================] - 0s 6ms/step - loss: 1.1484 - accuracy: 0.7789\n",
            "Epoch 103/200\n",
            "3/3 [==============================] - 0s 6ms/step - loss: 1.1295 - accuracy: 0.8000\n",
            "Epoch 104/200\n",
            "3/3 [==============================] - 0s 6ms/step - loss: 1.1064 - accuracy: 0.7789\n",
            "Epoch 105/200\n",
            "3/3 [==============================] - 0s 6ms/step - loss: 1.0841 - accuracy: 0.7789\n",
            "Epoch 106/200\n",
            "3/3 [==============================] - 0s 8ms/step - loss: 1.0626 - accuracy: 0.7895\n",
            "Epoch 107/200\n",
            "3/3 [==============================] - 0s 6ms/step - loss: 1.0414 - accuracy: 0.7789\n",
            "Epoch 108/200\n",
            "3/3 [==============================] - 0s 8ms/step - loss: 1.0210 - accuracy: 0.7789\n",
            "Epoch 109/200\n",
            "3/3 [==============================] - 0s 6ms/step - loss: 1.0009 - accuracy: 0.7895\n",
            "Epoch 110/200\n",
            "3/3 [==============================] - 0s 6ms/step - loss: 0.9799 - accuracy: 0.8105\n",
            "Epoch 111/200\n",
            "3/3 [==============================] - 0s 6ms/step - loss: 0.9594 - accuracy: 0.7895\n",
            "Epoch 112/200\n",
            "3/3 [==============================] - 0s 6ms/step - loss: 0.9384 - accuracy: 0.8000\n",
            "Epoch 113/200\n",
            "3/3 [==============================] - 0s 6ms/step - loss: 0.9228 - accuracy: 0.8211\n",
            "Epoch 114/200\n",
            "3/3 [==============================] - 0s 6ms/step - loss: 0.9011 - accuracy: 0.8105\n",
            "Epoch 115/200\n",
            "3/3 [==============================] - 0s 6ms/step - loss: 0.8820 - accuracy: 0.8105\n",
            "Epoch 116/200\n",
            "3/3 [==============================] - 0s 6ms/step - loss: 0.8657 - accuracy: 0.8211\n",
            "Epoch 117/200\n",
            "3/3 [==============================] - 0s 6ms/step - loss: 0.8455 - accuracy: 0.8105\n",
            "Epoch 118/200\n",
            "3/3 [==============================] - 0s 6ms/step - loss: 0.8286 - accuracy: 0.8211\n",
            "Epoch 119/200\n",
            "3/3 [==============================] - 0s 6ms/step - loss: 0.8139 - accuracy: 0.8526\n",
            "Epoch 120/200\n",
            "3/3 [==============================] - 0s 6ms/step - loss: 0.7969 - accuracy: 0.8632\n",
            "Epoch 121/200\n",
            "3/3 [==============================] - 0s 6ms/step - loss: 0.7822 - accuracy: 0.8105\n",
            "Epoch 122/200\n",
            "3/3 [==============================] - 0s 6ms/step - loss: 0.7671 - accuracy: 0.8211\n",
            "Epoch 123/200\n",
            "3/3 [==============================] - 0s 6ms/step - loss: 0.7488 - accuracy: 0.8316\n",
            "Epoch 124/200\n",
            "3/3 [==============================] - 0s 6ms/step - loss: 0.7373 - accuracy: 0.8526\n",
            "Epoch 125/200\n",
            "3/3 [==============================] - 0s 7ms/step - loss: 0.7215 - accuracy: 0.9053\n",
            "Epoch 126/200\n",
            "3/3 [==============================] - 0s 6ms/step - loss: 0.7079 - accuracy: 0.9053\n",
            "Epoch 127/200\n",
            "3/3 [==============================] - 0s 6ms/step - loss: 0.6936 - accuracy: 0.8842\n",
            "Epoch 128/200\n",
            "3/3 [==============================] - 0s 7ms/step - loss: 0.6779 - accuracy: 0.8632\n",
            "Epoch 129/200\n",
            "3/3 [==============================] - 0s 6ms/step - loss: 0.6673 - accuracy: 0.9053\n",
            "Epoch 130/200\n",
            "3/3 [==============================] - 0s 7ms/step - loss: 0.6521 - accuracy: 0.9158\n",
            "Epoch 131/200\n",
            "3/3 [==============================] - 0s 7ms/step - loss: 0.6419 - accuracy: 0.9158\n",
            "Epoch 132/200\n",
            "3/3 [==============================] - 0s 10ms/step - loss: 0.6272 - accuracy: 0.9158\n",
            "Epoch 133/200\n",
            "3/3 [==============================] - 0s 6ms/step - loss: 0.6173 - accuracy: 0.9263\n",
            "Epoch 134/200\n",
            "3/3 [==============================] - 0s 6ms/step - loss: 0.6037 - accuracy: 0.9474\n",
            "Epoch 135/200\n",
            "3/3 [==============================] - 0s 6ms/step - loss: 0.5921 - accuracy: 0.9158\n",
            "Epoch 136/200\n",
            "3/3 [==============================] - 0s 6ms/step - loss: 0.5813 - accuracy: 0.9158\n",
            "Epoch 137/200\n",
            "3/3 [==============================] - 0s 7ms/step - loss: 0.5702 - accuracy: 0.9158\n",
            "Epoch 138/200\n",
            "3/3 [==============================] - 0s 6ms/step - loss: 0.5616 - accuracy: 0.9263\n",
            "Epoch 139/200\n",
            "3/3 [==============================] - 0s 6ms/step - loss: 0.5511 - accuracy: 0.9263\n",
            "Epoch 140/200\n",
            "3/3 [==============================] - 0s 6ms/step - loss: 0.5387 - accuracy: 0.9579\n",
            "Epoch 141/200\n",
            "3/3 [==============================] - 0s 6ms/step - loss: 0.5283 - accuracy: 0.9579\n",
            "Epoch 142/200\n",
            "3/3 [==============================] - 0s 7ms/step - loss: 0.5203 - accuracy: 0.9579\n",
            "Epoch 143/200\n",
            "3/3 [==============================] - 0s 8ms/step - loss: 0.5102 - accuracy: 0.9579\n",
            "Epoch 144/200\n",
            "3/3 [==============================] - 0s 6ms/step - loss: 0.5007 - accuracy: 0.9474\n",
            "Epoch 145/200\n",
            "3/3 [==============================] - 0s 6ms/step - loss: 0.4912 - accuracy: 0.9474\n",
            "Epoch 146/200\n",
            "3/3 [==============================] - 0s 6ms/step - loss: 0.4839 - accuracy: 0.9474\n",
            "Epoch 147/200\n",
            "3/3 [==============================] - 0s 7ms/step - loss: 0.4759 - accuracy: 0.9474\n",
            "Epoch 148/200\n",
            "3/3 [==============================] - 0s 6ms/step - loss: 0.4671 - accuracy: 0.9474\n",
            "Epoch 149/200\n",
            "3/3 [==============================] - 0s 6ms/step - loss: 0.4591 - accuracy: 0.9579\n",
            "Epoch 150/200\n",
            "3/3 [==============================] - 0s 7ms/step - loss: 0.4510 - accuracy: 0.9474\n",
            "Epoch 151/200\n",
            "3/3 [==============================] - 0s 8ms/step - loss: 0.4450 - accuracy: 0.9368\n",
            "Epoch 152/200\n",
            "3/3 [==============================] - 0s 7ms/step - loss: 0.4364 - accuracy: 0.9579\n",
            "Epoch 153/200\n",
            "3/3 [==============================] - 0s 6ms/step - loss: 0.4284 - accuracy: 0.9474\n",
            "Epoch 154/200\n",
            "3/3 [==============================] - 0s 6ms/step - loss: 0.4211 - accuracy: 0.9684\n",
            "Epoch 155/200\n",
            "3/3 [==============================] - 0s 6ms/step - loss: 0.4138 - accuracy: 0.9579\n",
            "Epoch 156/200\n",
            "3/3 [==============================] - 0s 7ms/step - loss: 0.4080 - accuracy: 0.9684\n",
            "Epoch 157/200\n",
            "3/3 [==============================] - 0s 7ms/step - loss: 0.4010 - accuracy: 0.9684\n",
            "Epoch 158/200\n",
            "3/3 [==============================] - 0s 7ms/step - loss: 0.3951 - accuracy: 0.9579\n",
            "Epoch 159/200\n",
            "3/3 [==============================] - 0s 7ms/step - loss: 0.3886 - accuracy: 0.9579\n",
            "Epoch 160/200\n",
            "3/3 [==============================] - 0s 6ms/step - loss: 0.3814 - accuracy: 0.9684\n",
            "Epoch 161/200\n",
            "3/3 [==============================] - 0s 6ms/step - loss: 0.3754 - accuracy: 0.9684\n",
            "Epoch 162/200\n",
            "3/3 [==============================] - 0s 7ms/step - loss: 0.3691 - accuracy: 0.9684\n",
            "Epoch 163/200\n",
            "3/3 [==============================] - 0s 6ms/step - loss: 0.3647 - accuracy: 0.9684\n",
            "Epoch 164/200\n",
            "3/3 [==============================] - 0s 6ms/step - loss: 0.3581 - accuracy: 0.9684\n",
            "Epoch 165/200\n",
            "3/3 [==============================] - 0s 12ms/step - loss: 0.3525 - accuracy: 0.9684\n",
            "Epoch 166/200\n",
            "3/3 [==============================] - 0s 10ms/step - loss: 0.3481 - accuracy: 0.9684\n",
            "Epoch 167/200\n",
            "3/3 [==============================] - 0s 7ms/step - loss: 0.3435 - accuracy: 0.9684\n",
            "Epoch 168/200\n",
            "3/3 [==============================] - 0s 6ms/step - loss: 0.3372 - accuracy: 0.9684\n",
            "Epoch 169/200\n",
            "3/3 [==============================] - 0s 7ms/step - loss: 0.3324 - accuracy: 0.9684\n",
            "Epoch 170/200\n",
            "3/3 [==============================] - 0s 10ms/step - loss: 0.3278 - accuracy: 0.9684\n",
            "Epoch 171/200\n",
            "3/3 [==============================] - 0s 6ms/step - loss: 0.3219 - accuracy: 0.9684\n",
            "Epoch 172/200\n",
            "3/3 [==============================] - 0s 6ms/step - loss: 0.3180 - accuracy: 0.9579\n",
            "Epoch 173/200\n",
            "3/3 [==============================] - 0s 14ms/step - loss: 0.3137 - accuracy: 0.9684\n",
            "Epoch 174/200\n",
            "3/3 [==============================] - 0s 7ms/step - loss: 0.3079 - accuracy: 0.9684\n",
            "Epoch 175/200\n",
            "3/3 [==============================] - 0s 7ms/step - loss: 0.3054 - accuracy: 0.9579\n",
            "Epoch 176/200\n",
            "3/3 [==============================] - 0s 7ms/step - loss: 0.3000 - accuracy: 0.9579\n",
            "Epoch 177/200\n",
            "3/3 [==============================] - 0s 7ms/step - loss: 0.2957 - accuracy: 0.9579\n",
            "Epoch 178/200\n",
            "3/3 [==============================] - 0s 9ms/step - loss: 0.2919 - accuracy: 0.9684\n",
            "Epoch 179/200\n",
            "3/3 [==============================] - 0s 6ms/step - loss: 0.2870 - accuracy: 0.9684\n",
            "Epoch 180/200\n",
            "3/3 [==============================] - 0s 7ms/step - loss: 0.2828 - accuracy: 0.9684\n",
            "Epoch 181/200\n",
            "3/3 [==============================] - 0s 6ms/step - loss: 0.2803 - accuracy: 0.9684\n",
            "Epoch 182/200\n",
            "3/3 [==============================] - 0s 7ms/step - loss: 0.2762 - accuracy: 0.9579\n",
            "Epoch 183/200\n",
            "3/3 [==============================] - 0s 6ms/step - loss: 0.2714 - accuracy: 0.9579\n",
            "Epoch 184/200\n",
            "3/3 [==============================] - 0s 7ms/step - loss: 0.2676 - accuracy: 0.9684\n",
            "Epoch 185/200\n",
            "3/3 [==============================] - 0s 7ms/step - loss: 0.2641 - accuracy: 0.9684\n",
            "Epoch 186/200\n",
            "3/3 [==============================] - 0s 6ms/step - loss: 0.2609 - accuracy: 0.9684\n",
            "Epoch 187/200\n",
            "3/3 [==============================] - 0s 7ms/step - loss: 0.2575 - accuracy: 0.9684\n",
            "Epoch 188/200\n",
            "3/3 [==============================] - 0s 6ms/step - loss: 0.2536 - accuracy: 0.9684\n",
            "Epoch 189/200\n",
            "3/3 [==============================] - 0s 6ms/step - loss: 0.2503 - accuracy: 0.9684\n",
            "Epoch 190/200\n",
            "3/3 [==============================] - 0s 6ms/step - loss: 0.2468 - accuracy: 0.9684\n",
            "Epoch 191/200\n",
            "3/3 [==============================] - 0s 8ms/step - loss: 0.2438 - accuracy: 0.9684\n",
            "Epoch 192/200\n",
            "3/3 [==============================] - 0s 8ms/step - loss: 0.2411 - accuracy: 0.9684\n",
            "Epoch 193/200\n",
            "3/3 [==============================] - 0s 7ms/step - loss: 0.2374 - accuracy: 0.9684\n",
            "Epoch 194/200\n",
            "3/3 [==============================] - 0s 7ms/step - loss: 0.2341 - accuracy: 0.9684\n",
            "Epoch 195/200\n",
            "3/3 [==============================] - 0s 7ms/step - loss: 0.2323 - accuracy: 0.9684\n",
            "Epoch 196/200\n",
            "3/3 [==============================] - 0s 7ms/step - loss: 0.2290 - accuracy: 0.9684\n",
            "Epoch 197/200\n",
            "3/3 [==============================] - 0s 6ms/step - loss: 0.2251 - accuracy: 0.9684\n",
            "Epoch 198/200\n",
            "3/3 [==============================] - 0s 7ms/step - loss: 0.2229 - accuracy: 0.9579\n",
            "Epoch 199/200\n",
            "3/3 [==============================] - 0s 7ms/step - loss: 0.2198 - accuracy: 0.9579\n",
            "Epoch 200/200\n",
            "3/3 [==============================] - 0s 6ms/step - loss: 0.2163 - accuracy: 0.9684\n"
          ]
        }
      ]
    },
    {
      "cell_type": "markdown",
      "source": [
        "## **Model Analysis**"
      ],
      "metadata": {
        "id": "NZPNg-mCwb09"
      }
    },
    {
      "cell_type": "code",
      "source": [
        "# Plotting model Accuracy and Loss (Visualisasi Plot Hasil Akurasi dan Loss)\n",
        "# Plot Akurasi\n",
        "plt.figure(figsize=(14,5))\n",
        "plt.subplot(1,2,1)\n",
        "plt.plot(train.history['accuracy'],label='Training Set Accuracy')\n",
        "plt.legend(loc='lower right')\n",
        "plt.title('Accuracy')\n",
        "# Plot Loss\n",
        "plt.subplot(1,2,2)\n",
        "plt.plot(train.history['loss'],label='Training Set Loss')\n",
        "plt.legend(loc='upper right')\n",
        "plt.title('Loss')\n",
        "plt.show()"
      ],
      "metadata": {
        "colab": {
          "base_uri": "https://localhost:8080/",
          "height": 336
        },
        "id": "Z2DlkpDYwaww",
        "outputId": "2f2894af-e8e4-43d0-d584-a4cea2a25040"
      },
      "execution_count": null,
      "outputs": [
        {
          "output_type": "display_data",
          "data": {
            "text/plain": [
              "<Figure size 1008x360 with 2 Axes>"
            ],
            "image/png": "[encoded data removed]"
          },
          "metadata": {
            "needs_background": "light"
          }
        }
      ]
    },
    {
      "cell_type": "markdown",
      "source": [
        "## **Percobaan**"
      ],
      "metadata": {
        "id": "NXDPfvZd1zDG"
      }
    },
    {
      "cell_type": "code",
      "source": [
        "# Membuat Input Chat\n",
        "while True:\n",
        "  texts_p = []\n",
        "  prediction_input = input('👨‍🦰 Kamu : ')\n",
        "  \n",
        "  # Menghapus punktuasi dan konversi ke huruf kecil\n",
        "  prediciton_input = [letters.lower() for letters in prediction_input if letters not in string.punctuation]\n",
        "  prediction_input = ''.join(prediction_input)\n",
        "  texts_p.append(prediction_input)\n",
        "\n",
        "  # Tokenisasi dan Padding\n",
        "  prediction_input = tokenizer.texts_to_sequences(texts_p)\n",
        "  prediction_input = np.array(prediction_input).reshape(-1)\n",
        "  prediction_input = pad_sequences([prediction_input],input_shape)\n",
        "\n",
        "  # Mendapatkan hasil keluaran pada model \n",
        "  output = model.predict(prediction_input)\n",
        "  output = output.argmax()\n",
        "\n",
        "  # Menemukan respon sesuai data tag dan memainkan voice bot\n",
        "  response_tag = le.inverse_transform([output])[0]\n",
        "  print(\"🤖 KadekBot : \", random.choice(responses[response_tag]))\n",
        "  # tts = gTTS(random.choice(responses[response_tag]), lang='id')\n",
        "  # Simpan model voice bot ke dalam Google Drive\n",
        "  # tts.save('/content/Model/Kadekbot.wav')\n",
        "  time.sleep(0.08)\n",
        "  # Load model voice bot from Google Drive\n",
        "  # ipd.display(ipd.Audio('/content/Model/Kadekbot.wav', autoplay=False))\n",
        "  print(\"=\"*60 + \"\\n\")\n",
        "  # Tambahkan respon 'goodbye' agar bot bisa berhenti\n",
        "  if response_tag == \"goodbye\":\n",
        "    break"
      ],
      "metadata": {
        "id": "AdhApHSQ1sdz",
        "colab": {
          "base_uri": "https://localhost:8080/"
        },
        "outputId": "9fb15c66-7442-40c7-edd9-ca246da6bf97"
      },
      "execution_count": null,
      "outputs": [
        {
          "output_type": "stream",
          "name": "stdout",
          "text": [
            "👨‍🦰 Kamu : hai\n",
            "1/1 [==============================] - 0s 18ms/step\n",
            "🤖 KadekBot :  Halo! Aku Dinusbot yang akan menjawab pertanyaanmu seputar UDINUS, apa yang ingin kamu tanyakan?\n",
            "============================================================\n",
            "\n",
            "👨‍🦰 Kamu : UDINUS\n",
            "1/1 [==============================] - 0s 17ms/step\n",
            "🤖 KadekBot :  Universitas Dian Nuswantoro adalah salah satu perguruan tinggi swasta berakreditasi institusi A yang berada di Semarang, Indonesia. Berdiri pada tahun 1990. Rektor pada tahun 2010 adalah Prof. Dr. Ir. Edi Noersasongko M. Kom.\n",
            "============================================================\n",
            "\n",
            "👨‍🦰 Kamu : Sejarah udinus\n",
            "1/1 [==============================] - 0s 15ms/step\n",
            "🤖 KadekBot :  Pada tahun 1986, didirikan sebuah lembaga kursus komputer IMKA yang berlokasi di kota Semarang. Karena kegigihannya dalam membuka dan menciptakan peluang pasar serta ketahanannya dalam menghadapi pelbagai rintangan, IMKA berhasil tumbuh dan berkembang serta menyebar ke beberapa kota besar di Pulau Jawa, seperti Semarang, Surakarta, Yogyakarta, Surabaya, Bandung dan Jakarta. Selengkapnya seputar sejarah UDINUS di https://dinus.ac.id/about/52/history-dinus\n",
            "============================================================\n",
            "\n",
            "👨‍🦰 Kamu : Dimana parkir mobil dan motor di udinus?\n",
            "1/1 [==============================] - 0s 16ms/step\n",
            "🤖 KadekBot :  Untuk semantara ini, area parkir adalah di - Depan gedung B (untuk kendaraan dosen dan staff) - Depan gedung E (untuk mobil dan karyawan TVku) dan sebagian untuk kendaraan mahasiswa - Sebrang gedung E ( untuk mobil ) - Depan gedung G (untuk mobil) - Belakang gedung G (untuk motor) - Sebelah poliklinik (untuk mobil).\n",
            "============================================================\n",
            "\n",
            "👨‍🦰 Kamu : Dimana udinus?\n",
            "1/1 [==============================] - 0s 16ms/step\n",
            "🤖 KadekBot :  Universitas Dian Nuswantoro (Universitas Dinus) terletak di pusat kota Semarang, Jawa Tengah, Indonesia. Terletak di dekat bundaran Tugu Muda, Jl. Imam Bonjol 207 dan Jl. Nakula I no 5-11 Semarang tepatnya. Dapat diakses dengan mudah baik dengan kendaraan umum maupun kendaraan pribadi. Dibutuhkan sekitar 12 menit dari Bandara Ahmad Yani. Terletak di area seluas 4,5 Ha, kampus ini dikelilingi oleh area perkantoran, pendidikan, gedung komersial dan perumahan.\n",
            "============================================================\n",
            "\n",
            "👨‍🦰 Kamu : Fasilitas udinus\n",
            "1/1 [==============================] - 0s 15ms/step\n",
            "🤖 KadekBot :  UDINUS memiliki berbagai fasilitas yang diantaranya seperti lab fotografi, perpustakaan, sistem informasi, ruang rapat H.1, kafetaria, klinik, masjid, pusat kegiatan mahasiswa, Turnitin, ruang kelas nyaman, internet cepat, laboratorium, bus UDINUS, rooftop garden, beasiswa, lapangan basket, kalender akademik dinus, tenda kewirausahaan dinus, unit kegiatan dan organisasi mahasiswa, akses jurnal berlangganan, wall climbing, lab kesehatan, dinus tax center, lembaga bahasa ILCS dan CFLT, peluang studi lanjutan luar negeri, lab industri, ujian online, jadwal online, dan ruang aula. Selengkapnya di https://dinus.ac.id/facility\n",
            "============================================================\n",
            "\n",
            "👨‍🦰 Kamu : Jika saya pergi berobat ke poliklinik udinus, perlukah saya membayar untuk pelayanan & obatnya?\n",
            "1/1 [==============================] - 0s 15ms/step\n",
            "🤖 KadekBot :  Tidak, dikarenakan pembayaran poliklinik sudah masuk dalam pembayaran semesteran. \n",
            "============================================================\n",
            "\n",
            "👨‍🦰 Kamu : Ada berapa jenis poli yang ada di poliklinik udinus?\n",
            "1/1 [==============================] - 0s 18ms/step\n",
            "🤖 KadekBot :  Poli Umum dan Poli Gigi serta Poli Psikologi.\n",
            "============================================================\n",
            "\n",
            "👨‍🦰 Kamu : Apa saja jenis-jenis beasiswa yang dikelola udinus?\n",
            "1/1 [==============================] - 0s 15ms/step\n",
            "🤖 KadekBot :  Melengkapi data di SiAdin Mahasiswa di menu 'e-Ticket KTM/Heregistrasi'. Isi semua kelengkapan data seperti upload file Ijazah, KTP, KK (cek informasi syarat dan ketentuan upload file). Selanjutnya jika sudah berhasil upload semua file silahkan klik 'Download Tiket Pengambilan KTM ke BIAK', cetak dan berikan ke BIAK di Gd. A lt. 1\n",
            "============================================================\n",
            "\n",
            "👨‍🦰 Kamu : Ada berapa macam kegiatan peneliitian/karya ilmiah yang dapat diikut oleh mahasiswa udinus?\n",
            "1/1 [==============================] - 0s 16ms/step\n",
            "🤖 KadekBot :  Silakan cek di website http://lppm.dinus.ac.id/index.php menu statistik.\n",
            "============================================================\n",
            "\n",
            "👨‍🦰 Kamu : Bagaimana menjadi member career center udinus?\n",
            "1/1 [==============================] - 0s 17ms/step\n",
            "🤖 KadekBot :  Untuk menjadi member di Career Center UDINUS sangatlah mudah. Silahkan registrasi melalui website https://cc.dinus.ac.id - pilih menu Jobfair - Registrasi - Pencari Kerja.\n",
            "============================================================\n",
            "\n",
            "👨‍🦰 Kamu : dah\n",
            "1/1 [==============================] - 0s 16ms/step\n",
            "🤖 KadekBot :  Bye!\n",
            "============================================================\n",
            "\n"
          ]
        }
      ]
    },
    {
      "cell_type": "code",
      "source": [
        "# Simpan model dalam bentuk format file .h5 atau .pkl (pickle)\n",
        "model.save('/content/Model/chat_model.h5')\n",
        "\n",
        "print('Model Created Successfully!')"
      ],
      "metadata": {
        "colab": {
          "base_uri": "https://localhost:8080/"
        },
        "id": "UhTpyFzY2lwx",
        "outputId": "88bd9f76-2d05-4fcc-a21e-e1a4e02743bf"
      },
      "execution_count": null,
      "outputs": [
        {
          "output_type": "stream",
          "name": "stdout",
          "text": [
            "Model Created Successfully!\n"
          ]
        }
      ]
    },
    {
      "cell_type": "markdown",
      "source": [
        "## **Kesimpulan**\n",
        "Setelah melakukan proses training dengan model RNN-LSTM, didapatkan hasil yang memuaskan, dengan hasil metrics accuracy sebesar 0.9684 dan loss sebesar 0.2163 dengan epochs sebanyak 200. Selanjutnya, pada tahap percobaan simulasi chatbot di atas menunjukkan, bahwa 10 pertanyaan yang diuji coba, 8 dari 10 pertanyaan dapat dijawab dengan benar oleh DinusBot dan 2 pertanyaan sisanya tidak dapat dijawab dengan benar oleh DinusBot. Hal ini dikarenakan kurang banyak dan beragamnya dataset, sehingga menyebabkan ketidaktepatan DinusBot dalam menjawab pertanyaan/pernyataan dari si pengguna. Oleh karena itu, diperlukan adanya pengembangan dataset yang digunakan agar kemampuan DinusBot dalam merespon lebih baik lagi."
      ],
      "metadata": {
        "id": "USCL7wTaKVRp"
      }
    }
  ]
}